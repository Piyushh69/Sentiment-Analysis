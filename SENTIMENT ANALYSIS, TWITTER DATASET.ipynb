{
 "cells": [
  {
   "cell_type": "markdown",
   "id": "22cd7322",
   "metadata": {},
   "source": [
    "\n",
    "# **Importing Libraries**"
   ]
  },
  {
   "cell_type": "code",
   "execution_count": 56,
   "id": "93239f17",
   "metadata": {},
   "outputs": [],
   "source": [
    "import pandas as pd\n",
    "from sklearn.model_selection import train_test_split\n",
    "from sklearn.feature_extraction.text import CountVectorizer\n",
    "from sklearn import svm\n",
    "import numpy as np\n",
    "from pycaret import regression\n",
    "from pycaret.regression import*\n",
    "import matplotlib.pyplot as plt\n",
    "import plotly.express as px\n",
    "import warnings"
   ]
  },
  {
   "cell_type": "markdown",
   "id": "87fe2151",
   "metadata": {},
   "source": [
    "   # **Importing the Dataset**"
   ]
  },
  {
   "cell_type": "code",
   "execution_count": 57,
   "id": "9bb9cba5",
   "metadata": {},
   "outputs": [],
   "source": [
    "df = pd.read_csv(\"C:\\\\Users\\\\piyus\\\\Desktop\\\\Sentiment Analysis\\\\Tweets_dataset_raw.csv\")"
   ]
  },
  {
   "cell_type": "markdown",
   "id": "d2ec8b5f",
   "metadata": {},
   "source": [
    "# **Basic Dataset go-through**"
   ]
  },
  {
   "cell_type": "code",
   "execution_count": 58,
   "id": "712e69d2",
   "metadata": {},
   "outputs": [
    {
     "data": {
      "text/html": [
       "<div>\n",
       "<style scoped>\n",
       "    .dataframe tbody tr th:only-of-type {\n",
       "        vertical-align: middle;\n",
       "    }\n",
       "\n",
       "    .dataframe tbody tr th {\n",
       "        vertical-align: top;\n",
       "    }\n",
       "\n",
       "    .dataframe thead th {\n",
       "        text-align: right;\n",
       "    }\n",
       "</style>\n",
       "<table border=\"1\" class=\"dataframe\">\n",
       "  <thead>\n",
       "    <tr style=\"text-align: right;\">\n",
       "      <th></th>\n",
       "      <th>Text</th>\n",
       "      <th>Language</th>\n",
       "      <th>Label</th>\n",
       "    </tr>\n",
       "  </thead>\n",
       "  <tbody>\n",
       "    <tr>\n",
       "      <th>0</th>\n",
       "      <td>@Charlie_Corley @Kristine1G @amyklobuchar @Sty...</td>\n",
       "      <td>en</td>\n",
       "      <td>litigious</td>\n",
       "    </tr>\n",
       "    <tr>\n",
       "      <th>1</th>\n",
       "      <td>#BadBunny: Como dos gotas de agua: Joven se di...</td>\n",
       "      <td>es</td>\n",
       "      <td>negative</td>\n",
       "    </tr>\n",
       "    <tr>\n",
       "      <th>2</th>\n",
       "      <td>https://t.co/YJNiO0p1JV Flagstar Bank disclose...</td>\n",
       "      <td>en</td>\n",
       "      <td>litigious</td>\n",
       "    </tr>\n",
       "    <tr>\n",
       "      <th>3</th>\n",
       "      <td>Rwanda is set to host the headquarters of Unit...</td>\n",
       "      <td>en</td>\n",
       "      <td>positive</td>\n",
       "    </tr>\n",
       "    <tr>\n",
       "      <th>4</th>\n",
       "      <td>OOPS. I typed her name incorrectly (today’s br...</td>\n",
       "      <td>en</td>\n",
       "      <td>litigious</td>\n",
       "    </tr>\n",
       "  </tbody>\n",
       "</table>\n",
       "</div>"
      ],
      "text/plain": [
       "                                                Text Language      Label\n",
       "0  @Charlie_Corley @Kristine1G @amyklobuchar @Sty...       en  litigious\n",
       "1  #BadBunny: Como dos gotas de agua: Joven se di...       es   negative\n",
       "2  https://t.co/YJNiO0p1JV Flagstar Bank disclose...       en  litigious\n",
       "3  Rwanda is set to host the headquarters of Unit...       en   positive\n",
       "4  OOPS. I typed her name incorrectly (today’s br...       en  litigious"
      ]
     },
     "execution_count": 58,
     "metadata": {},
     "output_type": "execute_result"
    }
   ],
   "source": [
    "df.head()"
   ]
  },
  {
   "cell_type": "code",
   "execution_count": 59,
   "id": "550f8e23",
   "metadata": {},
   "outputs": [
    {
     "data": {
      "text/plain": [
       "(937854, 3)"
      ]
     },
     "execution_count": 59,
     "metadata": {},
     "output_type": "execute_result"
    }
   ],
   "source": [
    "df.shape"
   ]
  },
  {
   "cell_type": "code",
   "execution_count": 60,
   "id": "4108373d",
   "metadata": {},
   "outputs": [
    {
     "data": {
      "text/plain": [
       "Text         0\n",
       "Language    23\n",
       "Label        0\n",
       "dtype: int64"
      ]
     },
     "execution_count": 60,
     "metadata": {},
     "output_type": "execute_result"
    }
   ],
   "source": [
    "df.isnull().sum()"
   ]
  },
  {
   "cell_type": "code",
   "execution_count": 61,
   "id": "355a08d1",
   "metadata": {},
   "outputs": [
    {
     "name": "stdout",
     "output_type": "stream",
     "text": [
      "<class 'pandas.core.frame.DataFrame'>\n",
      "RangeIndex: 937854 entries, 0 to 937853\n",
      "Data columns (total 3 columns):\n",
      " #   Column    Non-Null Count   Dtype \n",
      "---  ------    --------------   ----- \n",
      " 0   Text      937854 non-null  object\n",
      " 1   Language  937831 non-null  object\n",
      " 2   Label     937854 non-null  object\n",
      "dtypes: object(3)\n",
      "memory usage: 21.5+ MB\n"
     ]
    }
   ],
   "source": [
    "df.info()"
   ]
  },
  {
   "cell_type": "code",
   "execution_count": 62,
   "id": "1ccd89d7",
   "metadata": {},
   "outputs": [
    {
     "data": {
      "text/plain": [
       "4974"
      ]
     },
     "execution_count": 62,
     "metadata": {},
     "output_type": "execute_result"
    }
   ],
   "source": [
    "df.duplicated().sum()"
   ]
  },
  {
   "cell_type": "code",
   "execution_count": 63,
   "id": "3445511e",
   "metadata": {},
   "outputs": [
    {
     "name": "stdout",
     "output_type": "stream",
     "text": [
      "0     @Charlie_Corley @Kristine1G @amyklobuchar @Sty...\n",
      "1     #BadBunny: Como dos gotas de agua: Joven se di...\n",
      "2     https://t.co/YJNiO0p1JV Flagstar Bank disclose...\n",
      "3     Rwanda is set to host the headquarters of Unit...\n",
      "4     OOPS. I typed her name incorrectly (today’s br...\n",
      "5     It sucks for me since I'm focused on the natur...\n",
      "6     @en_font Treballar a l’obra a partir dels 19 a...\n",
      "7     @ShawnTarloff @itsmieu you can also relate thi...\n",
      "8     Social Security. Constant political crises dis...\n",
      "9     @FilmThePoliceLA A broken rib can puncture a l...\n",
      "10    @jacobringenwald @aKeithWatts @CountDankulaTV ...\n",
      "11    @NZ_HK_SU @telebusiness My question was rhetor...\n",
      "12    Wimbledon: Nick Kyrgios admits spitting toward...\n",
      "13    is booktwt a thing? if so thats her and she sp...\n",
      "14    @SaltBurned [When the first sign of surrender ...\n",
      "15    @co_fuckoff J'espere que ça passera le plus vi...\n",
      "16    @roipaee @joe98100959 @Formula1game @redbullra...\n",
      "17    🤩 Power back on (1855749):  North VI in Ladysm...\n",
      "18    At the end we consume fictional stories to enj...\n",
      "19    #Duranto Express A1 coach AC not working prope...\n",
      "Name: Text, dtype: object\n"
     ]
    }
   ],
   "source": [
    "print(df['Text'][:20]) #there a lot of garbage information in the data like, hastags, @mentions, emojis and web links."
   ]
  },
  {
   "cell_type": "code",
   "execution_count": 74,
   "id": "d55f32ac",
   "metadata": {},
   "outputs": [
    {
     "name": "stdout",
     "output_type": "stream",
     "text": [
      " Number of rows containing http is : 268079\n",
      " Number of rows containing # is : 115977\n",
      " Number of rows containing @ is : 572843\n",
      " Number of rows containing www is : 774\n",
      " Number of rows containing ! is : 125859\n",
      " Number of rows containing ? is : 10916\n"
     ]
    }
   ],
   "source": [
    "print(f\" Number of rows containing http is : {len(df[df['Text'].str.contains('http')])}\")\n",
    "print(f\" Number of rows containing # is : {len(df[df['Text'].str.contains('#')])}\")\n",
    "print(f\" Number of rows containing @ is : {len(df[df['Text'].str.contains('@')])}\")\n",
    "print(f\" Number of rows containing www is : {len(df[df['Text'].str.contains('www')])}\")\n",
    "print(f\" Number of rows containing ! is : {len(df[df['Text'].str.contains('!')])}\")\n",
    "print(f\" Number of rows containing ? is : {len(df[df['Text'].str.contains('%')])}\")"
   ]
  },
  {
   "cell_type": "markdown",
   "id": "93f31ec9",
   "metadata": {},
   "source": [
    "# **Checking the distribution of Data**"
   ]
  },
  {
   "cell_type": "code",
   "execution_count": 64,
   "id": "af88d1cd",
   "metadata": {},
   "outputs": [],
   "source": [
    "df.reset_index(drop=True, inplace = True)"
   ]
  },
  {
   "cell_type": "code",
   "execution_count": 76,
   "id": "79935290",
   "metadata": {},
   "outputs": [
    {
     "data": {
      "image/png": "[encoded data removed]",
      "text/plain": [
       "<Figure size 400x400 with 1 Axes>"
      ]
     },
     "metadata": {},
     "output_type": "display_data"
    }
   ],
   "source": [
    "labels = df.groupby(df['Label']).size().index\n",
    "values = df.groupby(df['Label']).size().values\n",
    "\n",
    "plt.figure(figsize=(4, 4))\n",
    "plt.pie(values, labels=labels, autopct='%1.1f%%', startangle=140, colors = ['wheat','tomato','steelblue','thistle'])\n",
    "plt.title('\\nDistribution of labels in the dataset\\n')\n",
    "\n",
    "plt.show()"
   ]
  },
  {
   "cell_type": "code",
   "execution_count": 71,
   "id": "b640dd76",
   "metadata": {},
   "outputs": [
    {
     "data": {
      "image/png": "[encoded data removed]",
      "text/plain": [
       "<Figure size 400x400 with 1 Axes>"
      ]
     },
     "metadata": {},
     "output_type": "display_data"
    }
   ],
   "source": [
    "labels = df.groupby(df['Language']).size().sort_values(ascending=False).index[0:6]\n",
    "values = df.groupby(df['Language']).size().sort_values(ascending=False).values[0:6]\n",
    "\n",
    "plt.figure(figsize=(4, 4))\n",
    "plt.pie(values, labels=labels, autopct='%1.1f%%', startangle=140)\n",
    "plt.title('\\nLanguages used in tweets\\n')\n",
    "\n",
    "plt.show()"
   ]
  },
  {
   "cell_type": "code",
   "execution_count": 72,
   "id": "c46f5819",
   "metadata": {},
   "outputs": [],
   "source": [
    "#we can see that the data is majorly in english language"
   ]
  },
  {
   "cell_type": "markdown",
   "id": "a3d07e37",
   "metadata": {},
   "source": [
    "# Cleaning the Data"
   ]
  },
  {
   "cell_type": "code",
   "execution_count": 80,
   "id": "02c80924",
   "metadata": {},
   "outputs": [],
   "source": [
    "# # This Function for converting texts to lower case\n",
    "# def lower_case(x):\n",
    "#     for index, row in x.iterrows():\n",
    "#         x.at[index, 'Text'] = row['Text'].lower()\n",
    "#     return x\n",
    "\n",
    "# # Function to remove URLs\n",
    "# def remove_url(x):\n",
    "#     for index, row in x.iterrows():\n",
    "#         x.at[index, 'Text'] = re.sub(r'http\\S+|www\\S+', '', row['Text'])\n",
    "#     return x\n",
    "\n",
    "# # Function to remove # and @ symbols\n",
    "# def remove_symbols(x):\n",
    "#     for index, row in x.iterrows():\n",
    "#         x.at[index, 'Text'] = re.sub('[@#]\\S+', '', row['Text'])\n",
    "#     return x\n",
    "\n",
    "# # Function to remove punctuation\n",
    "# def remove_punc(x):\n",
    "#     for index, row in x.iterrows():\n",
    "#         x.at[index, 'Text'] = re.sub('[()!?:*;-^\\n]', '', row['Text'])\n",
    "#     return x\n",
    "\n",
    "# # Function to remove digits\n",
    "# def remove_digits(x):\n",
    "#     for index, row in x.iterrows():\n",
    "#         x.at[index, 'Text'] = re.sub('\\d', '', row['Text'])\n",
    "#     return x\n",
    "\n",
    "lower_case= lambda x: x['Text'].str.lower() # To convert all the text to lowercase letters\n",
    "remove_url=lambda x: x['Text'].str.replace(r'http\\S+|www\\S+','') # To remove URL's\n",
    "remove_symbols= lambda x:x['Text'].str.replace('[@,#]\\S+','')    # To remove # and @ symbols frequently used in tweets\n",
    "remove_punc=lambda x:x['Text'].str.replace('[()!?:*;-^\\n]','')   # To further remove symbols which not gonna be use further\n",
    "remove_digits=lambda x:x['Text'].str.replace('\\d','')            # To remove any digits\n",
    "\n"
   ]
  },
  {
   "cell_type": "code",
   "execution_count": 81,
   "id": "f122e6c8",
   "metadata": {},
   "outputs": [],
   "source": [
    "#implementing all of the above functions using another function, so that we can do this in one go.\n",
    "def clean_data(df):\n",
    "    \n",
    "    df['Text']=lower_case(df)\n",
    "    df['Text']=remove_url(df)\n",
    "    df['Text']=remove_symbols(df)\n",
    "    df['Text']=remove_punc(df)\n",
    "    df['Text']=remove_digits(df)\n",
    "    df=df.astype(str).apply(lambda x: x.str.encode('ascii', 'ignore').str.decode('ascii'))\n",
    "    df['Text']=df['Text'].str.strip() # To strip off white spaces\n",
    "    rm_index=df[df[\"Text\"].str.contains(\"[a-z]\")==False].index # There were some text like \\n\\n... I did this to remove them\n",
    "    df=df.drop(rm_index)\n",
    "    return df"
   ]
  },
  {
   "cell_type": "code",
   "execution_count": 82,
   "id": "1ffd2d73",
   "metadata": {},
   "outputs": [],
   "source": [
    "df_cleaned = clean_data(df)"
   ]
  },
  {
   "cell_type": "code",
   "execution_count": 88,
   "id": "1497d20b",
   "metadata": {},
   "outputs": [
    {
     "data": {
      "text/html": [
       "<div>\n",
       "<style scoped>\n",
       "    .dataframe tbody tr th:only-of-type {\n",
       "        vertical-align: middle;\n",
       "    }\n",
       "\n",
       "    .dataframe tbody tr th {\n",
       "        vertical-align: top;\n",
       "    }\n",
       "\n",
       "    .dataframe thead th {\n",
       "        text-align: right;\n",
       "    }\n",
       "</style>\n",
       "<table border=\"1\" class=\"dataframe\">\n",
       "  <thead>\n",
       "    <tr style=\"text-align: right;\">\n",
       "      <th></th>\n",
       "      <th>Text</th>\n",
       "      <th>Language</th>\n",
       "      <th>Label</th>\n",
       "    </tr>\n",
       "  </thead>\n",
       "  <tbody>\n",
       "    <tr>\n",
       "      <th>0</th>\n",
       "      <td>testimony is not evidence in a court of law, s...</td>\n",
       "      <td>en</td>\n",
       "      <td>litigious</td>\n",
       "    </tr>\n",
       "    <tr>\n",
       "      <th>1</th>\n",
       "      <td>como dos gotas de agua joven se disfraza de ba...</td>\n",
       "      <td>es</td>\n",
       "      <td>negative</td>\n",
       "    </tr>\n",
       "    <tr>\n",
       "      <th>2</th>\n",
       "      <td>flagstar bank discloses a data breach that imp...</td>\n",
       "      <td>en</td>\n",
       "      <td>litigious</td>\n",
       "    </tr>\n",
       "    <tr>\n",
       "      <th>3</th>\n",
       "      <td>rwanda is set to host the headquarters of unit...</td>\n",
       "      <td>en</td>\n",
       "      <td>positive</td>\n",
       "    </tr>\n",
       "    <tr>\n",
       "      <th>4</th>\n",
       "      <td>oops. i typed her name incorrectly todays brav...</td>\n",
       "      <td>en</td>\n",
       "      <td>litigious</td>\n",
       "    </tr>\n",
       "    <tr>\n",
       "      <th>5</th>\n",
       "      <td>it sucks for me since i'm focused on the natur...</td>\n",
       "      <td>en</td>\n",
       "      <td>negative</td>\n",
       "    </tr>\n",
       "    <tr>\n",
       "      <th>6</th>\n",
       "      <td>treballar a lobra a partir dels  anys fins als...</td>\n",
       "      <td>ca</td>\n",
       "      <td>negative</td>\n",
       "    </tr>\n",
       "    <tr>\n",
       "      <th>7</th>\n",
       "      <td>you can also relate this to art too a lot of p...</td>\n",
       "      <td>en</td>\n",
       "      <td>uncertainty</td>\n",
       "    </tr>\n",
       "    <tr>\n",
       "      <th>8</th>\n",
       "      <td>social security. constant political crises dis...</td>\n",
       "      <td>en</td>\n",
       "      <td>negative</td>\n",
       "    </tr>\n",
       "    <tr>\n",
       "      <th>9</th>\n",
       "      <td>a broken rib can puncture a lung or lead to a ...</td>\n",
       "      <td>en</td>\n",
       "      <td>negative</td>\n",
       "    </tr>\n",
       "    <tr>\n",
       "      <th>10</th>\n",
       "      <td>i agree it's a flawed response for a small %. ...</td>\n",
       "      <td>en</td>\n",
       "      <td>negative</td>\n",
       "    </tr>\n",
       "    <tr>\n",
       "      <th>11</th>\n",
       "      <td>my question was rhetorical. we all know russia...</td>\n",
       "      <td>en</td>\n",
       "      <td>negative</td>\n",
       "    </tr>\n",
       "    <tr>\n",
       "      <th>12</th>\n",
       "      <td>wimbledon nick kyrgios admits spitting towards...</td>\n",
       "      <td>en</td>\n",
       "      <td>positive</td>\n",
       "    </tr>\n",
       "    <tr>\n",
       "      <th>13</th>\n",
       "      <td>is booktwt a thing if so thats her and she spe...</td>\n",
       "      <td>en</td>\n",
       "      <td>positive</td>\n",
       "    </tr>\n",
       "    <tr>\n",
       "      <th>14</th>\n",
       "      <td>when the first sign of surrender comes, michae...</td>\n",
       "      <td>en</td>\n",
       "      <td>litigious</td>\n",
       "    </tr>\n",
       "    <tr>\n",
       "      <th>15</th>\n",
       "      <td>j'espere que a passera le plus vite possible /</td>\n",
       "      <td>fr</td>\n",
       "      <td>uncertainty</td>\n",
       "    </tr>\n",
       "    <tr>\n",
       "      <th>16</th>\n",
       "      <td>i wrote to them now for a response...i've lost...</td>\n",
       "      <td>en</td>\n",
       "      <td>negative</td>\n",
       "    </tr>\n",
       "    <tr>\n",
       "      <th>17</th>\n",
       "      <td>power back on   north vi in ladysmith near  bl...</td>\n",
       "      <td>en</td>\n",
       "      <td>negative</td>\n",
       "    </tr>\n",
       "    <tr>\n",
       "      <th>18</th>\n",
       "      <td>at the end we consume fictional stories to enj...</td>\n",
       "      <td>en</td>\n",
       "      <td>positive</td>\n",
       "    </tr>\n",
       "    <tr>\n",
       "      <th>19</th>\n",
       "      <td>express a coach ac not working properly in  pr...</td>\n",
       "      <td>en</td>\n",
       "      <td>positive</td>\n",
       "    </tr>\n",
       "  </tbody>\n",
       "</table>\n",
       "</div>"
      ],
      "text/plain": [
       "                                                 Text Language        Label\n",
       "0   testimony is not evidence in a court of law, s...       en    litigious\n",
       "1   como dos gotas de agua joven se disfraza de ba...       es     negative\n",
       "2   flagstar bank discloses a data breach that imp...       en    litigious\n",
       "3   rwanda is set to host the headquarters of unit...       en     positive\n",
       "4   oops. i typed her name incorrectly todays brav...       en    litigious\n",
       "5   it sucks for me since i'm focused on the natur...       en     negative\n",
       "6   treballar a lobra a partir dels  anys fins als...       ca     negative\n",
       "7   you can also relate this to art too a lot of p...       en  uncertainty\n",
       "8   social security. constant political crises dis...       en     negative\n",
       "9   a broken rib can puncture a lung or lead to a ...       en     negative\n",
       "10  i agree it's a flawed response for a small %. ...       en     negative\n",
       "11  my question was rhetorical. we all know russia...       en     negative\n",
       "12  wimbledon nick kyrgios admits spitting towards...       en     positive\n",
       "13  is booktwt a thing if so thats her and she spe...       en     positive\n",
       "14  when the first sign of surrender comes, michae...       en    litigious\n",
       "15     j'espere que a passera le plus vite possible /       fr  uncertainty\n",
       "16  i wrote to them now for a response...i've lost...       en     negative\n",
       "17  power back on   north vi in ladysmith near  bl...       en     negative\n",
       "18  at the end we consume fictional stories to enj...       en     positive\n",
       "19  express a coach ac not working properly in  pr...       en     positive"
      ]
     },
     "execution_count": 88,
     "metadata": {},
     "output_type": "execute_result"
    }
   ],
   "source": [
    "df_cleaned.head(20)"
   ]
  },
  {
   "cell_type": "code",
   "execution_count": 85,
   "id": "b0175af1",
   "metadata": {},
   "outputs": [
    {
     "data": {
      "text/plain": [
       "51271"
      ]
     },
     "execution_count": 85,
     "metadata": {},
     "output_type": "execute_result"
    }
   ],
   "source": [
    "df_cleaned.duplicated().sum()"
   ]
  },
  {
   "cell_type": "code",
   "execution_count": 86,
   "id": "149571fa",
   "metadata": {},
   "outputs": [],
   "source": [
    "#the dataset have a lot of duplicate entries, we need to clear them\n",
    "\n",
    "df_cleaned.drop_duplicates(inplace=True)"
   ]
  },
  {
   "cell_type": "code",
   "execution_count": 87,
   "id": "ff0cce8d",
   "metadata": {},
   "outputs": [
    {
     "data": {
      "text/plain": [
       "0"
      ]
     },
     "execution_count": 87,
     "metadata": {},
     "output_type": "execute_result"
    }
   ],
   "source": [
    "df_cleaned.duplicated().sum()"
   ]
  },
  {
   "cell_type": "code",
   "execution_count": null,
   "id": "8eea2697",
   "metadata": {},
   "outputs": [],
   "source": []
  },
  {
   "cell_type": "code",
   "execution_count": null,
   "id": "2d795d5b",
   "metadata": {},
   "outputs": [],
   "source": []
  },
  {
   "cell_type": "code",
   "execution_count": null,
   "id": "61daaa3c",
   "metadata": {},
   "outputs": [],
   "source": []
  },
  {
   "cell_type": "code",
   "execution_count": null,
   "id": "866c6d50",
   "metadata": {},
   "outputs": [],
   "source": []
  },
  {
   "cell_type": "markdown",
   "id": "fed95a39",
   "metadata": {},
   "source": [
    "# Training Model"
   ]
  },
  {
   "cell_type": "code",
   "execution_count": 90,
   "id": "19ee4cac",
   "metadata": {},
   "outputs": [],
   "source": [
    "df = df_cleaned\n",
    "# Prepare the data\n",
    "df.drop('Language', inplace = True, axis = 1)\n",
    "df.columns=['text', 'sentiment']\n",
    "X = df['text']\n",
    "y = df['sentiment']\n",
    "\n"
   ]
  },
  {
   "cell_type": "code",
   "execution_count": 91,
   "id": "fda9b780",
   "metadata": {},
   "outputs": [
    {
     "data": {
      "text/html": [
       "<div>\n",
       "<style scoped>\n",
       "    .dataframe tbody tr th:only-of-type {\n",
       "        vertical-align: middle;\n",
       "    }\n",
       "\n",
       "    .dataframe tbody tr th {\n",
       "        vertical-align: top;\n",
       "    }\n",
       "\n",
       "    .dataframe thead th {\n",
       "        text-align: right;\n",
       "    }\n",
       "</style>\n",
       "<table border=\"1\" class=\"dataframe\">\n",
       "  <thead>\n",
       "    <tr style=\"text-align: right;\">\n",
       "      <th></th>\n",
       "      <th>text</th>\n",
       "      <th>sentiment</th>\n",
       "    </tr>\n",
       "  </thead>\n",
       "  <tbody>\n",
       "    <tr>\n",
       "      <th>0</th>\n",
       "      <td>testimony is not evidence in a court of law, s...</td>\n",
       "      <td>litigious</td>\n",
       "    </tr>\n",
       "    <tr>\n",
       "      <th>1</th>\n",
       "      <td>como dos gotas de agua joven se disfraza de ba...</td>\n",
       "      <td>negative</td>\n",
       "    </tr>\n",
       "    <tr>\n",
       "      <th>2</th>\n",
       "      <td>flagstar bank discloses a data breach that imp...</td>\n",
       "      <td>litigious</td>\n",
       "    </tr>\n",
       "    <tr>\n",
       "      <th>3</th>\n",
       "      <td>rwanda is set to host the headquarters of unit...</td>\n",
       "      <td>positive</td>\n",
       "    </tr>\n",
       "    <tr>\n",
       "      <th>4</th>\n",
       "      <td>oops. i typed her name incorrectly todays brav...</td>\n",
       "      <td>litigious</td>\n",
       "    </tr>\n",
       "  </tbody>\n",
       "</table>\n",
       "</div>"
      ],
      "text/plain": [
       "                                                text  sentiment\n",
       "0  testimony is not evidence in a court of law, s...  litigious\n",
       "1  como dos gotas de agua joven se disfraza de ba...   negative\n",
       "2  flagstar bank discloses a data breach that imp...  litigious\n",
       "3  rwanda is set to host the headquarters of unit...   positive\n",
       "4  oops. i typed her name incorrectly todays brav...  litigious"
      ]
     },
     "execution_count": 91,
     "metadata": {},
     "output_type": "execute_result"
    }
   ],
   "source": [
    "df.head()"
   ]
  },
  {
   "cell_type": "code",
   "execution_count": null,
   "id": "639f43dc",
   "metadata": {},
   "outputs": [],
   "source": []
  }
 ],
 "metadata": {
  "kernelspec": {
   "display_name": "Python 3 (ipykernel)",
   "language": "python",
   "name": "python3"
  },
  "language_info": {
   "codemirror_mode": {
    "name": "ipython",
    "version": 3
   },
   "file_extension": ".py",
   "mimetype": "text/x-python",
   "name": "python",
   "nbconvert_exporter": "python",
   "pygments_lexer": "ipython3",
   "version": "3.10.9"
  }
 },
 "nbformat": 4,
 "nbformat_minor": 5
}
